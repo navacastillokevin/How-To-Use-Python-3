{
 "cells": [
  {
   "cell_type": "code",
   "execution_count": 1,
   "metadata": {},
   "outputs": [
    {
     "name": "stdout",
     "output_type": "stream",
     "text": [
      "What is your name?  Kevin\n",
      "Hi, Kevin\n",
      "How old are you? 19\n",
      "You are very young\n",
      "What are you doing?\n",
      "Homework\n",
      "How do you feel?\n",
      "Enthusiastic\n",
      "why?\n",
      "Because I am learning something new\n",
      "Could you explain me how that feels? It is because I am trying to learn\n",
      "It feels like I am preparing for my future\n",
      "Do you want to know my name?\n",
      "Yes, please\n",
      "Thank you, my name is Frida, What is the color of your eyes?\n",
      "Green\n",
      "Cute, How tall are you?\n",
      "0175cm\n",
      "you are taller than me\n",
      "Do you think that I can play basketball for my height?\n",
      "yes, sure\n",
      "Thank you, that's what I was thinking\n"
     ]
    }
   ],
   "source": [
    "print(\"What is your name? \", end = ' ')\n",
    "name = input()\n",
    "print(f\"Hi, {name}\")\n",
    "age = int(input(\"How old are you? \"))\n",
    "a = 18\n",
    "b = 35\n",
    "if age <= 18:\n",
    "    print(\"You are still a baby!\")\n",
    "if age > 18 and age <= 35:\n",
    "    print(f\"You are very young\")\n",
    "if age >= 35:\n",
    "    print(\"You are getting older!\")\n",
    "print(\"What are you doing?\")\n",
    "action = input()\n",
    "print(\"How do you feel?\")\n",
    "feeling = input()\n",
    "print(\"why?\")\n",
    "why = input()\n",
    "print(\"Could you explain me how that feels? It is because I am trying to learn\")\n",
    "question = input()\n",
    "print(\"Do you want to know my name?\")\n",
    "answer = input()\n",
    "print(\"Thank you, my name is Frida, What is the color of your eyes?\")\n",
    "color = input()\n",
    "print(\"Cute, How tall are you?\")\n",
    "tall = input(int())\n",
    "c = 175\n",
    "d = 160\n",
    "if c > d:\n",
    "    print(\"you are taller than me\")\n",
    "else:\n",
    "    print(\"I am very short\")\n",
    "print(\"Do you think that I can play basketball for my height?\")\n",
    "play = input()\n",
    "print(\"Thank you, that's what I was thinking\")"
   ]
  }
 ],
 "metadata": {
  "kernelspec": {
   "display_name": "Python 3",
   "language": "python",
   "name": "python3"
  },
  "language_info": {
   "codemirror_mode": {
    "name": "ipython",
    "version": 3
   },
   "file_extension": ".py",
   "mimetype": "text/x-python",
   "name": "python",
   "nbconvert_exporter": "python",
   "pygments_lexer": "ipython3",
   "version": "3.7.4"
  }
 },
 "nbformat": 4,
 "nbformat_minor": 2
}
