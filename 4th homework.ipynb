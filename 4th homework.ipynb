{
 "cells": [
  {
   "cell_type": "code",
   "execution_count": 8,
   "metadata": {},
   "outputs": [
    {
     "name": "stdout",
     "output_type": "stream",
     "text": [
      "How many values are you gone to introduce? = 5\n",
      "Introduce age: 199\n",
      "Introduce age: 122\n",
      "Introduce age: 122\n",
      "Introduce age: 144\n",
      "Introduce age: 155\n",
      "This is your sample: \n",
      "155 \n",
      "The sample mean is = 31.0\n"
     ]
    }
   ],
   "source": [
    "values = int(input(\"How many values are you gone to introduce? = \"))\n",
    "ages = []\n",
    "total = 0\n",
    "for i in range(0,values):\n",
    "    x = int(input(\"Introduce age: \"))\n",
    "ages.append(x)\n",
    "total += x\n",
    "print(\"This is your sample: \")\n",
    "\n",
    "for age in ages:\n",
    "    print(age, end = ' ')\n",
    "sample_mean = total/values\n",
    "\n",
    "print(f\"\\nThe sample mean is = {sample_mean}\")"
   ]
  },
  {
   "cell_type": "markdown",
   "metadata": {},
   "source": [
    "# Here is for the names"
   ]
  },
  {
   "cell_type": "code",
   "execution_count": 1,
   "metadata": {},
   "outputs": [
    {
     "name": "stdout",
     "output_type": "stream",
     "text": [
      "How many names are you gone to introduce? 2\n",
      "Introduce a name: Kevin\n",
      "Introduce a name: Jesus\n",
      "['Kevin', 'Jesus']\n",
      "Give me the number of the name that you want me to print: 1\n",
      "Jesus\n"
     ]
    }
   ],
   "source": [
    "c = int(input(\"How many names are you gone to introduce? \"))\n",
    "n = []\n",
    "total = 0\n",
    "\n",
    "for i in range (0, c):\n",
    "    x = input(\"Introduce a name: \")\n",
    "    n.append(x)\n",
    "    total += 1\n",
    "\n",
    "print(n)\n",
    "\n",
    "ASC = int(input(\"Give me the number of the name that you want me to print: \"))\n",
    "print(n[ASC])"
   ]
  },
  {
   "cell_type": "code",
   "execution_count": null,
   "metadata": {},
   "outputs": [],
   "source": []
  }
 ],
 "metadata": {
  "kernelspec": {
   "display_name": "Python 3",
   "language": "python",
   "name": "python3"
  },
  "language_info": {
   "codemirror_mode": {
    "name": "ipython",
    "version": 3
   },
   "file_extension": ".py",
   "mimetype": "text/x-python",
   "name": "python",
   "nbconvert_exporter": "python",
   "pygments_lexer": "ipython3",
   "version": "3.7.4"
  }
 },
 "nbformat": 4,
 "nbformat_minor": 2
}
